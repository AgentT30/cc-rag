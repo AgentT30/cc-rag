{
 "cells": [
  {
   "cell_type": "markdown",
   "metadata": {},
   "source": [
    "# Document RAG\n",
    "\n",
    "### What is RAG?\n",
    "\n",
    "RAG stands for retrieval augmented generation. It's a process where the user question is first used to retrieve the information, then both the question and the retrieved information is passed to an LLM as context. It allows AI models to access and use external information to improve their responses. It combines the power of large language models with the ability to retrieve relevant data, making their outputs more accurate, informative, and up-to-date.\n",
    "\n",
    "The below is the high level representation of how a RAG system works.\n",
    "\n",
    "![](rag_arch_diagram.png)\n",
    "\n",
    "### Why RAG?\n",
    "\n",
    "LLM'sare highly effective at processing and generating general information but may lack specialized domain expertise. Additionally, their knowledge is typically limited to information available up to their training cutoff date, rendering them unable to address events or updates that occurred thereafter. However, by providing relevant and context-specific data, these models can be equipped with the necessary domain knowledge to respond effectively to specialized queries. Think of it like having an AI assistant that can quickly look up facts or consult expert sources before giving you an answer. This makes the AI more reliable and helpful, especially when dealing with specific topics or needing the latest information.\n",
    "\n",
    "### How is it implemented? \n",
    "\n",
    "Well, this notebook runs you through exactly that"
   ]
  },
  {
   "cell_type": "code",
   "execution_count": 1,
   "metadata": {},
   "outputs": [
    {
     "name": "stdout",
     "output_type": "stream",
     "text": [
      "Requirement already satisfied: boto3 in ./.venv/lib/python3.8/site-packages (from -r requirements.txt (line 1)) (1.35.90)\n",
      "Requirement already satisfied: pypdf in ./.venv/lib/python3.8/site-packages (from -r requirements.txt (line 2)) (5.1.0)\n",
      "Requirement already satisfied: openai in ./.venv/lib/python3.8/site-packages (from -r requirements.txt (line 3)) (1.58.1)\n",
      "Requirement already satisfied: ipykernel in ./.venv/lib/python3.8/site-packages (from -r requirements.txt (line 4)) (6.29.5)\n",
      "Requirement already satisfied: python-dotenv in ./.venv/lib/python3.8/site-packages (from -r requirements.txt (line 5)) (1.0.1)\n",
      "Requirement already satisfied: langchain-core in ./.venv/lib/python3.8/site-packages (from -r requirements.txt (line 6)) (0.2.43)\n",
      "Requirement already satisfied: langchain-groq in ./.venv/lib/python3.8/site-packages (from -r requirements.txt (line 7)) (0.1.10)\n",
      "Requirement already satisfied: langchain-nomic in ./.venv/lib/python3.8/site-packages (from -r requirements.txt (line 8)) (0.1.2)\n",
      "Requirement already satisfied: langchain-openai in ./.venv/lib/python3.8/site-packages (from -r requirements.txt (line 9)) (0.1.25)\n",
      "Requirement already satisfied: langchain-chroma in ./.venv/lib/python3.8/site-packages (from -r requirements.txt (line 10)) (0.1.4)\n",
      "Requirement already satisfied: pysqlite3-binary in ./.venv/lib/python3.8/site-packages (from -r requirements.txt (line 11)) (0.5.4)\n",
      "Requirement already satisfied: langchain-community in ./.venv/lib/python3.8/site-packages (from -r requirements.txt (line 12)) (0.2.19)\n",
      "Requirement already satisfied: langchain-anthropic in ./.venv/lib/python3.8/site-packages (from -r requirements.txt (line 13)) (0.1.23)\n",
      "Requirement already satisfied: langchain-google-vertexai in ./.venv/lib/python3.8/site-packages (from -r requirements.txt (line 14)) (1.0.10)\n",
      "Requirement already satisfied: jmespath<2.0.0,>=0.7.1 in ./.venv/lib/python3.8/site-packages (from boto3->-r requirements.txt (line 1)) (1.0.1)\n",
      "Requirement already satisfied: botocore<1.36.0,>=1.35.90 in ./.venv/lib/python3.8/site-packages (from boto3->-r requirements.txt (line 1)) (1.35.90)\n",
      "Requirement already satisfied: s3transfer<0.11.0,>=0.10.0 in ./.venv/lib/python3.8/site-packages (from boto3->-r requirements.txt (line 1)) (0.10.4)\n",
      "Requirement already satisfied: typing_extensions>=4.0 in ./.venv/lib/python3.8/site-packages (from pypdf->-r requirements.txt (line 2)) (4.12.2)\n",
      "Requirement already satisfied: pydantic<3,>=1.9.0 in ./.venv/lib/python3.8/site-packages (from openai->-r requirements.txt (line 3)) (2.10.4)\n",
      "Requirement already satisfied: tqdm>4 in ./.venv/lib/python3.8/site-packages (from openai->-r requirements.txt (line 3)) (4.67.1)\n",
      "Requirement already satisfied: distro<2,>=1.7.0 in ./.venv/lib/python3.8/site-packages (from openai->-r requirements.txt (line 3)) (1.9.0)\n",
      "Requirement already satisfied: anyio<5,>=3.5.0 in ./.venv/lib/python3.8/site-packages (from openai->-r requirements.txt (line 3)) (4.5.2)\n",
      "Requirement already satisfied: jiter<1,>=0.4.0 in ./.venv/lib/python3.8/site-packages (from openai->-r requirements.txt (line 3)) (0.8.2)\n",
      "Requirement already satisfied: sniffio in ./.venv/lib/python3.8/site-packages (from openai->-r requirements.txt (line 3)) (1.3.1)\n",
      "Requirement already satisfied: httpx<1,>=0.23.0 in ./.venv/lib/python3.8/site-packages (from openai->-r requirements.txt (line 3)) (0.27.2)\n",
      "Requirement already satisfied: traitlets>=5.4.0 in ./.venv/lib/python3.8/site-packages (from ipykernel->-r requirements.txt (line 4)) (5.14.3)\n",
      "Requirement already satisfied: psutil in ./.venv/lib/python3.8/site-packages (from ipykernel->-r requirements.txt (line 4)) (6.1.1)\n",
      "Requirement already satisfied: comm>=0.1.1 in ./.venv/lib/python3.8/site-packages (from ipykernel->-r requirements.txt (line 4)) (0.2.2)\n",
      "Requirement already satisfied: nest-asyncio in ./.venv/lib/python3.8/site-packages (from ipykernel->-r requirements.txt (line 4)) (1.6.0)\n",
      "Requirement already satisfied: ipython>=7.23.1 in ./.venv/lib/python3.8/site-packages (from ipykernel->-r requirements.txt (line 4)) (8.12.3)\n",
      "Requirement already satisfied: matplotlib-inline>=0.1 in ./.venv/lib/python3.8/site-packages (from ipykernel->-r requirements.txt (line 4)) (0.1.7)\n",
      "Requirement already satisfied: jupyter-client>=6.1.12 in ./.venv/lib/python3.8/site-packages (from ipykernel->-r requirements.txt (line 4)) (8.6.3)\n",
      "Requirement already satisfied: packaging in ./.venv/lib/python3.8/site-packages (from ipykernel->-r requirements.txt (line 4)) (24.2)\n",
      "Requirement already satisfied: jupyter-core!=5.0.*,>=4.12 in ./.venv/lib/python3.8/site-packages (from ipykernel->-r requirements.txt (line 4)) (5.7.2)\n",
      "Requirement already satisfied: pyzmq>=24 in ./.venv/lib/python3.8/site-packages (from ipykernel->-r requirements.txt (line 4)) (26.2.0)\n",
      "Requirement already satisfied: debugpy>=1.6.5 in ./.venv/lib/python3.8/site-packages (from ipykernel->-r requirements.txt (line 4)) (1.8.11)\n",
      "Requirement already satisfied: tornado>=6.1 in ./.venv/lib/python3.8/site-packages (from ipykernel->-r requirements.txt (line 4)) (6.4.2)\n",
      "Requirement already satisfied: tenacity!=8.4.0,<9.0.0,>=8.1.0 in ./.venv/lib/python3.8/site-packages (from langchain-core->-r requirements.txt (line 6)) (8.5.0)\n",
      "Requirement already satisfied: jsonpatch<2.0,>=1.33 in ./.venv/lib/python3.8/site-packages (from langchain-core->-r requirements.txt (line 6)) (1.33)\n",
      "Requirement already satisfied: langsmith<0.2.0,>=0.1.112 in ./.venv/lib/python3.8/site-packages (from langchain-core->-r requirements.txt (line 6)) (0.1.147)\n",
      "Requirement already satisfied: PyYAML>=5.3 in ./.venv/lib/python3.8/site-packages (from langchain-core->-r requirements.txt (line 6)) (6.0.2)\n",
      "Requirement already satisfied: groq<1,>=0.4.1 in ./.venv/lib/python3.8/site-packages (from langchain-groq->-r requirements.txt (line 7)) (0.13.1)\n",
      "Requirement already satisfied: pillow<11.0.0,>=10.3.0 in ./.venv/lib/python3.8/site-packages (from langchain-nomic->-r requirements.txt (line 8)) (10.4.0)\n",
      "Requirement already satisfied: nomic<4.0.0,>=3.0.29 in ./.venv/lib/python3.8/site-packages (from langchain-nomic->-r requirements.txt (line 8)) (3.3.4)\n",
      "Requirement already satisfied: tiktoken<1,>=0.7 in ./.venv/lib/python3.8/site-packages (from langchain-openai->-r requirements.txt (line 9)) (0.7.0)\n",
      "Requirement already satisfied: numpy<2,>=1 in ./.venv/lib/python3.8/site-packages (from langchain-chroma->-r requirements.txt (line 10)) (1.24.4)\n",
      "Requirement already satisfied: chromadb!=0.5.4,!=0.5.5,<0.6.0,>=0.4.0 in ./.venv/lib/python3.8/site-packages (from langchain-chroma->-r requirements.txt (line 10)) (0.5.23)\n",
      "Requirement already satisfied: fastapi<1,>=0.95.2 in ./.venv/lib/python3.8/site-packages (from langchain-chroma->-r requirements.txt (line 10)) (0.115.6)\n",
      "Requirement already satisfied: dataclasses-json<0.7,>=0.5.7 in ./.venv/lib/python3.8/site-packages (from langchain-community->-r requirements.txt (line 12)) (0.6.7)\n",
      "Requirement already satisfied: aiohttp<4.0.0,>=3.8.3 in ./.venv/lib/python3.8/site-packages (from langchain-community->-r requirements.txt (line 12)) (3.10.11)\n",
      "Requirement already satisfied: SQLAlchemy<3,>=1.4 in ./.venv/lib/python3.8/site-packages (from langchain-community->-r requirements.txt (line 12)) (2.0.36)\n",
      "Requirement already satisfied: langchain<0.3.0,>=0.2.17 in ./.venv/lib/python3.8/site-packages (from langchain-community->-r requirements.txt (line 12)) (0.2.17)\n",
      "Requirement already satisfied: requests<3,>=2 in ./.venv/lib/python3.8/site-packages (from langchain-community->-r requirements.txt (line 12)) (2.32.3)\n",
      "Requirement already satisfied: defusedxml<0.8.0,>=0.7.1 in ./.venv/lib/python3.8/site-packages (from langchain-anthropic->-r requirements.txt (line 13)) (0.7.1)\n",
      "Requirement already satisfied: anthropic<1,>=0.30.0 in ./.venv/lib/python3.8/site-packages (from langchain-anthropic->-r requirements.txt (line 13)) (0.42.0)\n",
      "Requirement already satisfied: google-cloud-aiplatform<2.0.0,>=1.56.0 in ./.venv/lib/python3.8/site-packages (from langchain-google-vertexai->-r requirements.txt (line 14)) (1.75.0)\n",
      "Requirement already satisfied: google-cloud-storage<3.0.0,>=2.17.0 in ./.venv/lib/python3.8/site-packages (from langchain-google-vertexai->-r requirements.txt (line 14)) (2.19.0)\n",
      "Requirement already satisfied: httpx-sse<0.5.0,>=0.4.0 in ./.venv/lib/python3.8/site-packages (from langchain-google-vertexai->-r requirements.txt (line 14)) (0.4.0)\n",
      "Requirement already satisfied: async-timeout<6.0,>=4.0 in ./.venv/lib/python3.8/site-packages (from aiohttp<4.0.0,>=3.8.3->langchain-community->-r requirements.txt (line 12)) (4.0.3)\n",
      "Requirement already satisfied: multidict<7.0,>=4.5 in ./.venv/lib/python3.8/site-packages (from aiohttp<4.0.0,>=3.8.3->langchain-community->-r requirements.txt (line 12)) (6.1.0)\n",
      "Requirement already satisfied: frozenlist>=1.1.1 in ./.venv/lib/python3.8/site-packages (from aiohttp<4.0.0,>=3.8.3->langchain-community->-r requirements.txt (line 12)) (1.5.0)\n",
      "Requirement already satisfied: yarl<2.0,>=1.12.0 in ./.venv/lib/python3.8/site-packages (from aiohttp<4.0.0,>=3.8.3->langchain-community->-r requirements.txt (line 12)) (1.15.2)\n",
      "Requirement already satisfied: attrs>=17.3.0 in ./.venv/lib/python3.8/site-packages (from aiohttp<4.0.0,>=3.8.3->langchain-community->-r requirements.txt (line 12)) (24.3.0)\n",
      "Requirement already satisfied: aiohappyeyeballs>=2.3.0 in ./.venv/lib/python3.8/site-packages (from aiohttp<4.0.0,>=3.8.3->langchain-community->-r requirements.txt (line 12)) (2.4.4)\n",
      "Requirement already satisfied: aiosignal>=1.1.2 in ./.venv/lib/python3.8/site-packages (from aiohttp<4.0.0,>=3.8.3->langchain-community->-r requirements.txt (line 12)) (1.3.1)\n",
      "Requirement already satisfied: idna>=2.8 in ./.venv/lib/python3.8/site-packages (from anyio<5,>=3.5.0->openai->-r requirements.txt (line 3)) (3.10)\n",
      "Requirement already satisfied: exceptiongroup>=1.0.2 in ./.venv/lib/python3.8/site-packages (from anyio<5,>=3.5.0->openai->-r requirements.txt (line 3)) (1.2.2)\n",
      "Requirement already satisfied: python-dateutil<3.0.0,>=2.1 in ./.venv/lib/python3.8/site-packages (from botocore<1.36.0,>=1.35.90->boto3->-r requirements.txt (line 1)) (2.9.0.post0)\n",
      "Requirement already satisfied: urllib3<1.27,>=1.25.4 in ./.venv/lib/python3.8/site-packages (from botocore<1.36.0,>=1.35.90->boto3->-r requirements.txt (line 1)) (1.26.20)\n",
      "Requirement already satisfied: opentelemetry-exporter-otlp-proto-grpc>=1.2.0 in ./.venv/lib/python3.8/site-packages (from chromadb!=0.5.4,!=0.5.5,<0.6.0,>=0.4.0->langchain-chroma->-r requirements.txt (line 10)) (1.29.0)\n",
      "Requirement already satisfied: grpcio>=1.58.0 in ./.venv/lib/python3.8/site-packages (from chromadb!=0.5.4,!=0.5.5,<0.6.0,>=0.4.0->langchain-chroma->-r requirements.txt (line 10)) (1.68.1)\n",
      "Requirement already satisfied: opentelemetry-instrumentation-fastapi>=0.41b0 in ./.venv/lib/python3.8/site-packages (from chromadb!=0.5.4,!=0.5.5,<0.6.0,>=0.4.0->langchain-chroma->-r requirements.txt (line 10)) (0.50b0)\n",
      "Requirement already satisfied: chroma-hnswlib==0.7.6 in ./.venv/lib/python3.8/site-packages (from chromadb!=0.5.4,!=0.5.5,<0.6.0,>=0.4.0->langchain-chroma->-r requirements.txt (line 10)) (0.7.6)\n",
      "Requirement already satisfied: mmh3>=4.0.1 in ./.venv/lib/python3.8/site-packages (from chromadb!=0.5.4,!=0.5.5,<0.6.0,>=0.4.0->langchain-chroma->-r requirements.txt (line 10)) (5.0.1)\n",
      "Requirement already satisfied: uvicorn[standard]>=0.18.3 in ./.venv/lib/python3.8/site-packages (from chromadb!=0.5.4,!=0.5.5,<0.6.0,>=0.4.0->langchain-chroma->-r requirements.txt (line 10)) (0.33.0)\n",
      "Requirement already satisfied: typer>=0.9.0 in ./.venv/lib/python3.8/site-packages (from chromadb!=0.5.4,!=0.5.5,<0.6.0,>=0.4.0->langchain-chroma->-r requirements.txt (line 10)) (0.15.1)\n",
      "Requirement already satisfied: pypika>=0.48.9 in ./.venv/lib/python3.8/site-packages (from chromadb!=0.5.4,!=0.5.5,<0.6.0,>=0.4.0->langchain-chroma->-r requirements.txt (line 10)) (0.48.9)\n",
      "Requirement already satisfied: rich>=10.11.0 in ./.venv/lib/python3.8/site-packages (from chromadb!=0.5.4,!=0.5.5,<0.6.0,>=0.4.0->langchain-chroma->-r requirements.txt (line 10)) (13.9.4)\n",
      "Requirement already satisfied: bcrypt>=4.0.1 in ./.venv/lib/python3.8/site-packages (from chromadb!=0.5.4,!=0.5.5,<0.6.0,>=0.4.0->langchain-chroma->-r requirements.txt (line 10)) (4.2.1)\n",
      "Requirement already satisfied: kubernetes>=28.1.0 in ./.venv/lib/python3.8/site-packages (from chromadb!=0.5.4,!=0.5.5,<0.6.0,>=0.4.0->langchain-chroma->-r requirements.txt (line 10)) (31.0.0)\n",
      "Requirement already satisfied: overrides>=7.3.1 in ./.venv/lib/python3.8/site-packages (from chromadb!=0.5.4,!=0.5.5,<0.6.0,>=0.4.0->langchain-chroma->-r requirements.txt (line 10)) (7.7.0)\n",
      "Requirement already satisfied: importlib-resources in ./.venv/lib/python3.8/site-packages (from chromadb!=0.5.4,!=0.5.5,<0.6.0,>=0.4.0->langchain-chroma->-r requirements.txt (line 10)) (6.4.5)\n",
      "Requirement already satisfied: onnxruntime>=1.14.1 in ./.venv/lib/python3.8/site-packages (from chromadb!=0.5.4,!=0.5.5,<0.6.0,>=0.4.0->langchain-chroma->-r requirements.txt (line 10)) (1.19.2)\n",
      "Requirement already satisfied: posthog>=2.4.0 in ./.venv/lib/python3.8/site-packages (from chromadb!=0.5.4,!=0.5.5,<0.6.0,>=0.4.0->langchain-chroma->-r requirements.txt (line 10)) (3.7.4)\n",
      "Requirement already satisfied: opentelemetry-sdk>=1.2.0 in ./.venv/lib/python3.8/site-packages (from chromadb!=0.5.4,!=0.5.5,<0.6.0,>=0.4.0->langchain-chroma->-r requirements.txt (line 10)) (1.29.0)\n",
      "Requirement already satisfied: graphlib_backport>=1.0.3 in ./.venv/lib/python3.8/site-packages (from chromadb!=0.5.4,!=0.5.5,<0.6.0,>=0.4.0->langchain-chroma->-r requirements.txt (line 10)) (1.1.0)\n",
      "Requirement already satisfied: build>=1.0.3 in ./.venv/lib/python3.8/site-packages (from chromadb!=0.5.4,!=0.5.5,<0.6.0,>=0.4.0->langchain-chroma->-r requirements.txt (line 10)) (1.2.2.post1)\n",
      "Requirement already satisfied: orjson>=3.9.12 in ./.venv/lib/python3.8/site-packages (from chromadb!=0.5.4,!=0.5.5,<0.6.0,>=0.4.0->langchain-chroma->-r requirements.txt (line 10)) (3.10.13)\n",
      "Requirement already satisfied: opentelemetry-api>=1.2.0 in ./.venv/lib/python3.8/site-packages (from chromadb!=0.5.4,!=0.5.5,<0.6.0,>=0.4.0->langchain-chroma->-r requirements.txt (line 10)) (1.29.0)\n",
      "Requirement already satisfied: tokenizers<=0.20.3,>=0.13.2 in ./.venv/lib/python3.8/site-packages (from chromadb!=0.5.4,!=0.5.5,<0.6.0,>=0.4.0->langchain-chroma->-r requirements.txt (line 10)) (0.20.3)\n",
      "Requirement already satisfied: typing-inspect<1,>=0.4.0 in ./.venv/lib/python3.8/site-packages (from dataclasses-json<0.7,>=0.5.7->langchain-community->-r requirements.txt (line 12)) (0.9.0)\n",
      "Requirement already satisfied: marshmallow<4.0.0,>=3.18.0 in ./.venv/lib/python3.8/site-packages (from dataclasses-json<0.7,>=0.5.7->langchain-community->-r requirements.txt (line 12)) (3.22.0)\n",
      "Requirement already satisfied: starlette<0.42.0,>=0.40.0 in ./.venv/lib/python3.8/site-packages (from fastapi<1,>=0.95.2->langchain-chroma->-r requirements.txt (line 10)) (0.41.3)\n",
      "Requirement already satisfied: shapely<3.0.0dev in ./.venv/lib/python3.8/site-packages (from google-cloud-aiplatform<2.0.0,>=1.56.0->langchain-google-vertexai->-r requirements.txt (line 14)) (2.0.6)\n",
      "Requirement already satisfied: google-api-core[grpc]!=2.0.*,!=2.1.*,!=2.2.*,!=2.3.*,!=2.4.*,!=2.5.*,!=2.6.*,!=2.7.*,<3.0.0dev,>=1.34.1 in ./.venv/lib/python3.8/site-packages (from google-cloud-aiplatform<2.0.0,>=1.56.0->langchain-google-vertexai->-r requirements.txt (line 14)) (2.24.0)\n",
      "Requirement already satisfied: google-auth<3.0.0dev,>=2.14.1 in ./.venv/lib/python3.8/site-packages (from google-cloud-aiplatform<2.0.0,>=1.56.0->langchain-google-vertexai->-r requirements.txt (line 14)) (2.37.0)\n",
      "Requirement already satisfied: google-cloud-bigquery!=3.20.0,<4.0.0dev,>=1.15.0 in ./.venv/lib/python3.8/site-packages (from google-cloud-aiplatform<2.0.0,>=1.56.0->langchain-google-vertexai->-r requirements.txt (line 14)) (3.27.0)\n",
      "Requirement already satisfied: google-cloud-resource-manager<3.0.0dev,>=1.3.3 in ./.venv/lib/python3.8/site-packages (from google-cloud-aiplatform<2.0.0,>=1.56.0->langchain-google-vertexai->-r requirements.txt (line 14)) (1.14.0)\n",
      "Requirement already satisfied: protobuf!=4.21.0,!=4.21.1,!=4.21.2,!=4.21.3,!=4.21.4,!=4.21.5,<6.0.0dev,>=3.20.2 in ./.venv/lib/python3.8/site-packages (from google-cloud-aiplatform<2.0.0,>=1.56.0->langchain-google-vertexai->-r requirements.txt (line 14)) (5.29.2)\n",
      "Requirement already satisfied: docstring-parser<1 in ./.venv/lib/python3.8/site-packages (from google-cloud-aiplatform<2.0.0,>=1.56.0->langchain-google-vertexai->-r requirements.txt (line 14)) (0.16)\n",
      "Requirement already satisfied: proto-plus<2.0.0dev,>=1.22.3 in ./.venv/lib/python3.8/site-packages (from google-cloud-aiplatform<2.0.0,>=1.56.0->langchain-google-vertexai->-r requirements.txt (line 14)) (1.25.0)\n",
      "Requirement already satisfied: google-crc32c<2.0dev,>=1.0 in ./.venv/lib/python3.8/site-packages (from google-cloud-storage<3.0.0,>=2.17.0->langchain-google-vertexai->-r requirements.txt (line 14)) (1.5.0)\n",
      "Requirement already satisfied: google-cloud-core<3.0dev,>=2.3.0 in ./.venv/lib/python3.8/site-packages (from google-cloud-storage<3.0.0,>=2.17.0->langchain-google-vertexai->-r requirements.txt (line 14)) (2.4.1)\n",
      "Requirement already satisfied: google-resumable-media>=2.7.2 in ./.venv/lib/python3.8/site-packages (from google-cloud-storage<3.0.0,>=2.17.0->langchain-google-vertexai->-r requirements.txt (line 14)) (2.7.2)\n",
      "Requirement already satisfied: certifi in ./.venv/lib/python3.8/site-packages (from httpx<1,>=0.23.0->openai->-r requirements.txt (line 3)) (2024.12.14)\n",
      "Requirement already satisfied: httpcore==1.* in ./.venv/lib/python3.8/site-packages (from httpx<1,>=0.23.0->openai->-r requirements.txt (line 3)) (1.0.7)\n",
      "Requirement already satisfied: h11<0.15,>=0.13 in ./.venv/lib/python3.8/site-packages (from httpcore==1.*->httpx<1,>=0.23.0->openai->-r requirements.txt (line 3)) (0.14.0)\n",
      "Requirement already satisfied: pygments>=2.4.0 in ./.venv/lib/python3.8/site-packages (from ipython>=7.23.1->ipykernel->-r requirements.txt (line 4)) (2.18.0)\n",
      "Requirement already satisfied: backcall in ./.venv/lib/python3.8/site-packages (from ipython>=7.23.1->ipykernel->-r requirements.txt (line 4)) (0.2.0)\n",
      "Requirement already satisfied: decorator in ./.venv/lib/python3.8/site-packages (from ipython>=7.23.1->ipykernel->-r requirements.txt (line 4)) (5.1.1)\n",
      "Requirement already satisfied: jedi>=0.16 in ./.venv/lib/python3.8/site-packages (from ipython>=7.23.1->ipykernel->-r requirements.txt (line 4)) (0.19.2)\n",
      "Requirement already satisfied: stack-data in ./.venv/lib/python3.8/site-packages (from ipython>=7.23.1->ipykernel->-r requirements.txt (line 4)) (0.6.3)\n",
      "Requirement already satisfied: pickleshare in ./.venv/lib/python3.8/site-packages (from ipython>=7.23.1->ipykernel->-r requirements.txt (line 4)) (0.7.5)\n",
      "Requirement already satisfied: pexpect>4.3 in ./.venv/lib/python3.8/site-packages (from ipython>=7.23.1->ipykernel->-r requirements.txt (line 4)) (4.9.0)\n",
      "Requirement already satisfied: prompt-toolkit!=3.0.37,<3.1.0,>=3.0.30 in ./.venv/lib/python3.8/site-packages (from ipython>=7.23.1->ipykernel->-r requirements.txt (line 4)) (3.0.48)\n",
      "Requirement already satisfied: jsonpointer>=1.9 in ./.venv/lib/python3.8/site-packages (from jsonpatch<2.0,>=1.33->langchain-core->-r requirements.txt (line 6)) (3.0.0)\n",
      "Requirement already satisfied: importlib-metadata>=4.8.3 in ./.venv/lib/python3.8/site-packages (from jupyter-client>=6.1.12->ipykernel->-r requirements.txt (line 4)) (8.5.0)\n",
      "Requirement already satisfied: platformdirs>=2.5 in ./.venv/lib/python3.8/site-packages (from jupyter-core!=5.0.*,>=4.12->ipykernel->-r requirements.txt (line 4)) (4.3.6)\n",
      "Requirement already satisfied: langchain-text-splitters<0.3.0,>=0.2.0 in ./.venv/lib/python3.8/site-packages (from langchain<0.3.0,>=0.2.17->langchain-community->-r requirements.txt (line 12)) (0.2.4)\n",
      "Requirement already satisfied: requests-toolbelt<2.0.0,>=1.0.0 in ./.venv/lib/python3.8/site-packages (from langsmith<0.2.0,>=0.1.112->langchain-core->-r requirements.txt (line 6)) (1.0.0)\n",
      "Requirement already satisfied: pyjwt in ./.venv/lib/python3.8/site-packages (from nomic<4.0.0,>=3.0.29->langchain-nomic->-r requirements.txt (line 8)) (2.9.0)\n",
      "Requirement already satisfied: loguru in ./.venv/lib/python3.8/site-packages (from nomic<4.0.0,>=3.0.29->langchain-nomic->-r requirements.txt (line 8)) (0.7.3)\n",
      "Requirement already satisfied: click in ./.venv/lib/python3.8/site-packages (from nomic<4.0.0,>=3.0.29->langchain-nomic->-r requirements.txt (line 8)) (8.1.8)\n",
      "Requirement already satisfied: pyarrow in ./.venv/lib/python3.8/site-packages (from nomic<4.0.0,>=3.0.29->langchain-nomic->-r requirements.txt (line 8)) (17.0.0)\n",
      "Requirement already satisfied: pandas in ./.venv/lib/python3.8/site-packages (from nomic<4.0.0,>=3.0.29->langchain-nomic->-r requirements.txt (line 8)) (2.0.3)\n",
      "Requirement already satisfied: jsonlines in ./.venv/lib/python3.8/site-packages (from nomic<4.0.0,>=3.0.29->langchain-nomic->-r requirements.txt (line 8)) (4.0.0)\n",
      "Requirement already satisfied: annotated-types>=0.6.0 in ./.venv/lib/python3.8/site-packages (from pydantic<3,>=1.9.0->openai->-r requirements.txt (line 3)) (0.7.0)\n",
      "Requirement already satisfied: pydantic-core==2.27.2 in ./.venv/lib/python3.8/site-packages (from pydantic<3,>=1.9.0->openai->-r requirements.txt (line 3)) (2.27.2)\n",
      "Requirement already satisfied: charset-normalizer<4,>=2 in ./.venv/lib/python3.8/site-packages (from requests<3,>=2->langchain-community->-r requirements.txt (line 12)) (3.4.1)\n",
      "Requirement already satisfied: greenlet!=0.4.17 in ./.venv/lib/python3.8/site-packages (from SQLAlchemy<3,>=1.4->langchain-community->-r requirements.txt (line 12)) (3.1.1)\n",
      "Requirement already satisfied: regex>=2022.1.18 in ./.venv/lib/python3.8/site-packages (from tiktoken<1,>=0.7->langchain-openai->-r requirements.txt (line 9)) (2024.11.6)\n",
      "Requirement already satisfied: pyproject_hooks in ./.venv/lib/python3.8/site-packages (from build>=1.0.3->chromadb!=0.5.4,!=0.5.5,<0.6.0,>=0.4.0->langchain-chroma->-r requirements.txt (line 10)) (1.2.0)\n",
      "Requirement already satisfied: tomli>=1.1.0 in ./.venv/lib/python3.8/site-packages (from build>=1.0.3->chromadb!=0.5.4,!=0.5.5,<0.6.0,>=0.4.0->langchain-chroma->-r requirements.txt (line 10)) (2.2.1)\n",
      "Requirement already satisfied: googleapis-common-protos<2.0.dev0,>=1.56.2 in ./.venv/lib/python3.8/site-packages (from google-api-core[grpc]!=2.0.*,!=2.1.*,!=2.2.*,!=2.3.*,!=2.4.*,!=2.5.*,!=2.6.*,!=2.7.*,<3.0.0dev,>=1.34.1->google-cloud-aiplatform<2.0.0,>=1.56.0->langchain-google-vertexai->-r requirements.txt (line 14)) (1.66.0)\n",
      "Requirement already satisfied: grpcio-status<2.0.dev0,>=1.33.2 in ./.venv/lib/python3.8/site-packages (from google-api-core[grpc]!=2.0.*,!=2.1.*,!=2.2.*,!=2.3.*,!=2.4.*,!=2.5.*,!=2.6.*,!=2.7.*,<3.0.0dev,>=1.34.1->google-cloud-aiplatform<2.0.0,>=1.56.0->langchain-google-vertexai->-r requirements.txt (line 14)) (1.68.1)\n",
      "Requirement already satisfied: pyasn1-modules>=0.2.1 in ./.venv/lib/python3.8/site-packages (from google-auth<3.0.0dev,>=2.14.1->google-cloud-aiplatform<2.0.0,>=1.56.0->langchain-google-vertexai->-r requirements.txt (line 14)) (0.4.1)\n",
      "Requirement already satisfied: rsa<5,>=3.1.4 in ./.venv/lib/python3.8/site-packages (from google-auth<3.0.0dev,>=2.14.1->google-cloud-aiplatform<2.0.0,>=1.56.0->langchain-google-vertexai->-r requirements.txt (line 14)) (4.9)\n",
      "Requirement already satisfied: cachetools<6.0,>=2.0.0 in ./.venv/lib/python3.8/site-packages (from google-auth<3.0.0dev,>=2.14.1->google-cloud-aiplatform<2.0.0,>=1.56.0->langchain-google-vertexai->-r requirements.txt (line 14)) (5.5.0)\n",
      "Requirement already satisfied: grpc-google-iam-v1<1.0.0dev,>=0.12.4 in ./.venv/lib/python3.8/site-packages (from google-cloud-resource-manager<3.0.0dev,>=1.3.3->google-cloud-aiplatform<2.0.0,>=1.56.0->langchain-google-vertexai->-r requirements.txt (line 14)) (0.13.1)\n",
      "Requirement already satisfied: zipp>=3.20 in ./.venv/lib/python3.8/site-packages (from importlib-metadata>=4.8.3->jupyter-client>=6.1.12->ipykernel->-r requirements.txt (line 4)) (3.20.2)\n",
      "Requirement already satisfied: parso<0.9.0,>=0.8.4 in ./.venv/lib/python3.8/site-packages (from jedi>=0.16->ipython>=7.23.1->ipykernel->-r requirements.txt (line 4)) (0.8.4)\n",
      "Requirement already satisfied: requests-oauthlib in ./.venv/lib/python3.8/site-packages (from kubernetes>=28.1.0->chromadb!=0.5.4,!=0.5.5,<0.6.0,>=0.4.0->langchain-chroma->-r requirements.txt (line 10)) (2.0.0)\n",
      "Requirement already satisfied: six>=1.9.0 in ./.venv/lib/python3.8/site-packages (from kubernetes>=28.1.0->chromadb!=0.5.4,!=0.5.5,<0.6.0,>=0.4.0->langchain-chroma->-r requirements.txt (line 10)) (1.17.0)\n",
      "Requirement already satisfied: websocket-client!=0.40.0,!=0.41.*,!=0.42.*,>=0.32.0 in ./.venv/lib/python3.8/site-packages (from kubernetes>=28.1.0->chromadb!=0.5.4,!=0.5.5,<0.6.0,>=0.4.0->langchain-chroma->-r requirements.txt (line 10)) (1.8.0)\n",
      "Requirement already satisfied: oauthlib>=3.2.2 in ./.venv/lib/python3.8/site-packages (from kubernetes>=28.1.0->chromadb!=0.5.4,!=0.5.5,<0.6.0,>=0.4.0->langchain-chroma->-r requirements.txt (line 10)) (3.2.2)\n",
      "Requirement already satisfied: durationpy>=0.7 in ./.venv/lib/python3.8/site-packages (from kubernetes>=28.1.0->chromadb!=0.5.4,!=0.5.5,<0.6.0,>=0.4.0->langchain-chroma->-r requirements.txt (line 10)) (0.9)\n",
      "Requirement already satisfied: flatbuffers in ./.venv/lib/python3.8/site-packages (from onnxruntime>=1.14.1->chromadb!=0.5.4,!=0.5.5,<0.6.0,>=0.4.0->langchain-chroma->-r requirements.txt (line 10)) (24.12.23)\n",
      "Requirement already satisfied: sympy in ./.venv/lib/python3.8/site-packages (from onnxruntime>=1.14.1->chromadb!=0.5.4,!=0.5.5,<0.6.0,>=0.4.0->langchain-chroma->-r requirements.txt (line 10)) (1.13.3)\n",
      "Requirement already satisfied: coloredlogs in ./.venv/lib/python3.8/site-packages (from onnxruntime>=1.14.1->chromadb!=0.5.4,!=0.5.5,<0.6.0,>=0.4.0->langchain-chroma->-r requirements.txt (line 10)) (15.0.1)\n",
      "Requirement already satisfied: deprecated>=1.2.6 in ./.venv/lib/python3.8/site-packages (from opentelemetry-api>=1.2.0->chromadb!=0.5.4,!=0.5.5,<0.6.0,>=0.4.0->langchain-chroma->-r requirements.txt (line 10)) (1.2.15)\n",
      "Requirement already satisfied: opentelemetry-exporter-otlp-proto-common==1.29.0 in ./.venv/lib/python3.8/site-packages (from opentelemetry-exporter-otlp-proto-grpc>=1.2.0->chromadb!=0.5.4,!=0.5.5,<0.6.0,>=0.4.0->langchain-chroma->-r requirements.txt (line 10)) (1.29.0)\n",
      "Requirement already satisfied: opentelemetry-proto==1.29.0 in ./.venv/lib/python3.8/site-packages (from opentelemetry-exporter-otlp-proto-grpc>=1.2.0->chromadb!=0.5.4,!=0.5.5,<0.6.0,>=0.4.0->langchain-chroma->-r requirements.txt (line 10)) (1.29.0)\n",
      "Requirement already satisfied: opentelemetry-instrumentation-asgi==0.50b0 in ./.venv/lib/python3.8/site-packages (from opentelemetry-instrumentation-fastapi>=0.41b0->chromadb!=0.5.4,!=0.5.5,<0.6.0,>=0.4.0->langchain-chroma->-r requirements.txt (line 10)) (0.50b0)\n",
      "Requirement already satisfied: opentelemetry-instrumentation==0.50b0 in ./.venv/lib/python3.8/site-packages (from opentelemetry-instrumentation-fastapi>=0.41b0->chromadb!=0.5.4,!=0.5.5,<0.6.0,>=0.4.0->langchain-chroma->-r requirements.txt (line 10)) (0.50b0)\n",
      "Requirement already satisfied: opentelemetry-semantic-conventions==0.50b0 in ./.venv/lib/python3.8/site-packages (from opentelemetry-instrumentation-fastapi>=0.41b0->chromadb!=0.5.4,!=0.5.5,<0.6.0,>=0.4.0->langchain-chroma->-r requirements.txt (line 10)) (0.50b0)\n",
      "Requirement already satisfied: opentelemetry-util-http==0.50b0 in ./.venv/lib/python3.8/site-packages (from opentelemetry-instrumentation-fastapi>=0.41b0->chromadb!=0.5.4,!=0.5.5,<0.6.0,>=0.4.0->langchain-chroma->-r requirements.txt (line 10)) (0.50b0)\n",
      "Requirement already satisfied: wrapt<2.0.0,>=1.0.0 in ./.venv/lib/python3.8/site-packages (from opentelemetry-instrumentation==0.50b0->opentelemetry-instrumentation-fastapi>=0.41b0->chromadb!=0.5.4,!=0.5.5,<0.6.0,>=0.4.0->langchain-chroma->-r requirements.txt (line 10)) (1.17.0)\n",
      "Requirement already satisfied: asgiref~=3.0 in ./.venv/lib/python3.8/site-packages (from opentelemetry-instrumentation-asgi==0.50b0->opentelemetry-instrumentation-fastapi>=0.41b0->chromadb!=0.5.4,!=0.5.5,<0.6.0,>=0.4.0->langchain-chroma->-r requirements.txt (line 10)) (3.8.1)\n",
      "Requirement already satisfied: ptyprocess>=0.5 in ./.venv/lib/python3.8/site-packages (from pexpect>4.3->ipython>=7.23.1->ipykernel->-r requirements.txt (line 4)) (0.7.0)\n",
      "Requirement already satisfied: monotonic>=1.5 in ./.venv/lib/python3.8/site-packages (from posthog>=2.4.0->chromadb!=0.5.4,!=0.5.5,<0.6.0,>=0.4.0->langchain-chroma->-r requirements.txt (line 10)) (1.6)\n",
      "Requirement already satisfied: backoff>=1.10.0 in ./.venv/lib/python3.8/site-packages (from posthog>=2.4.0->chromadb!=0.5.4,!=0.5.5,<0.6.0,>=0.4.0->langchain-chroma->-r requirements.txt (line 10)) (2.2.1)\n",
      "Requirement already satisfied: wcwidth in ./.venv/lib/python3.8/site-packages (from prompt-toolkit!=3.0.37,<3.1.0,>=3.0.30->ipython>=7.23.1->ipykernel->-r requirements.txt (line 4)) (0.2.13)\n",
      "Requirement already satisfied: markdown-it-py>=2.2.0 in ./.venv/lib/python3.8/site-packages (from rich>=10.11.0->chromadb!=0.5.4,!=0.5.5,<0.6.0,>=0.4.0->langchain-chroma->-r requirements.txt (line 10)) (3.0.0)\n",
      "Requirement already satisfied: huggingface-hub<1.0,>=0.16.4 in ./.venv/lib/python3.8/site-packages (from tokenizers<=0.20.3,>=0.13.2->chromadb!=0.5.4,!=0.5.5,<0.6.0,>=0.4.0->langchain-chroma->-r requirements.txt (line 10)) (0.27.0)\n",
      "Requirement already satisfied: shellingham>=1.3.0 in ./.venv/lib/python3.8/site-packages (from typer>=0.9.0->chromadb!=0.5.4,!=0.5.5,<0.6.0,>=0.4.0->langchain-chroma->-r requirements.txt (line 10)) (1.5.4)\n",
      "Requirement already satisfied: mypy-extensions>=0.3.0 in ./.venv/lib/python3.8/site-packages (from typing-inspect<1,>=0.4.0->dataclasses-json<0.7,>=0.5.7->langchain-community->-r requirements.txt (line 12)) (1.0.0)\n",
      "Requirement already satisfied: httptools>=0.6.3 in ./.venv/lib/python3.8/site-packages (from uvicorn[standard]>=0.18.3->chromadb!=0.5.4,!=0.5.5,<0.6.0,>=0.4.0->langchain-chroma->-r requirements.txt (line 10)) (0.6.4)\n",
      "Requirement already satisfied: websockets>=10.4 in ./.venv/lib/python3.8/site-packages (from uvicorn[standard]>=0.18.3->chromadb!=0.5.4,!=0.5.5,<0.6.0,>=0.4.0->langchain-chroma->-r requirements.txt (line 10)) (13.1)\n",
      "Requirement already satisfied: watchfiles>=0.13 in ./.venv/lib/python3.8/site-packages (from uvicorn[standard]>=0.18.3->chromadb!=0.5.4,!=0.5.5,<0.6.0,>=0.4.0->langchain-chroma->-r requirements.txt (line 10)) (0.24.0)\n",
      "Requirement already satisfied: uvloop!=0.15.0,!=0.15.1,>=0.14.0 in ./.venv/lib/python3.8/site-packages (from uvicorn[standard]>=0.18.3->chromadb!=0.5.4,!=0.5.5,<0.6.0,>=0.4.0->langchain-chroma->-r requirements.txt (line 10)) (0.21.0)\n",
      "Requirement already satisfied: propcache>=0.2.0 in ./.venv/lib/python3.8/site-packages (from yarl<2.0,>=1.12.0->aiohttp<4.0.0,>=3.8.3->langchain-community->-r requirements.txt (line 12)) (0.2.0)\n",
      "Requirement already satisfied: pytz>=2020.1 in ./.venv/lib/python3.8/site-packages (from pandas->nomic<4.0.0,>=3.0.29->langchain-nomic->-r requirements.txt (line 8)) (2024.2)\n",
      "Requirement already satisfied: tzdata>=2022.1 in ./.venv/lib/python3.8/site-packages (from pandas->nomic<4.0.0,>=3.0.29->langchain-nomic->-r requirements.txt (line 8)) (2024.2)\n",
      "Requirement already satisfied: pure-eval in ./.venv/lib/python3.8/site-packages (from stack-data->ipython>=7.23.1->ipykernel->-r requirements.txt (line 4)) (0.2.3)\n",
      "Requirement already satisfied: asttokens>=2.1.0 in ./.venv/lib/python3.8/site-packages (from stack-data->ipython>=7.23.1->ipykernel->-r requirements.txt (line 4)) (3.0.0)\n",
      "Requirement already satisfied: executing>=1.2.0 in ./.venv/lib/python3.8/site-packages (from stack-data->ipython>=7.23.1->ipykernel->-r requirements.txt (line 4)) (2.1.0)\n",
      "Requirement already satisfied: filelock in ./.venv/lib/python3.8/site-packages (from huggingface-hub<1.0,>=0.16.4->tokenizers<=0.20.3,>=0.13.2->chromadb!=0.5.4,!=0.5.5,<0.6.0,>=0.4.0->langchain-chroma->-r requirements.txt (line 10)) (3.16.1)\n",
      "Requirement already satisfied: fsspec>=2023.5.0 in ./.venv/lib/python3.8/site-packages (from huggingface-hub<1.0,>=0.16.4->tokenizers<=0.20.3,>=0.13.2->chromadb!=0.5.4,!=0.5.5,<0.6.0,>=0.4.0->langchain-chroma->-r requirements.txt (line 10)) (2024.12.0)\n",
      "Requirement already satisfied: mdurl~=0.1 in ./.venv/lib/python3.8/site-packages (from markdown-it-py>=2.2.0->rich>=10.11.0->chromadb!=0.5.4,!=0.5.5,<0.6.0,>=0.4.0->langchain-chroma->-r requirements.txt (line 10)) (0.1.2)\n",
      "Requirement already satisfied: pyasn1<0.7.0,>=0.4.6 in ./.venv/lib/python3.8/site-packages (from pyasn1-modules>=0.2.1->google-auth<3.0.0dev,>=2.14.1->google-cloud-aiplatform<2.0.0,>=1.56.0->langchain-google-vertexai->-r requirements.txt (line 14)) (0.6.1)\n",
      "Requirement already satisfied: humanfriendly>=9.1 in ./.venv/lib/python3.8/site-packages (from coloredlogs->onnxruntime>=1.14.1->chromadb!=0.5.4,!=0.5.5,<0.6.0,>=0.4.0->langchain-chroma->-r requirements.txt (line 10)) (10.0)\n",
      "Requirement already satisfied: mpmath<1.4,>=1.1.0 in ./.venv/lib/python3.8/site-packages (from sympy->onnxruntime>=1.14.1->chromadb!=0.5.4,!=0.5.5,<0.6.0,>=0.4.0->langchain-chroma->-r requirements.txt (line 10)) (1.3.0)\n",
      "\n",
      "\u001b[1m[\u001b[0m\u001b[34;49mnotice\u001b[0m\u001b[1;39;49m]\u001b[0m\u001b[39;49m A new release of pip is available: \u001b[0m\u001b[31;49m23.0\u001b[0m\u001b[39;49m -> \u001b[0m\u001b[32;49m24.3.1\u001b[0m\n",
      "\u001b[1m[\u001b[0m\u001b[34;49mnotice\u001b[0m\u001b[1;39;49m]\u001b[0m\u001b[39;49m To update, run: \u001b[0m\u001b[32;49mpip install --upgrade pip\u001b[0m\n"
     ]
    }
   ],
   "source": [
    "!pip install -r requirements.txt"
   ]
  },
  {
   "cell_type": "code",
   "execution_count": 2,
   "metadata": {},
   "outputs": [
    {
     "data": {
      "text/plain": [
       "True"
      ]
     },
     "execution_count": 2,
     "metadata": {},
     "output_type": "execute_result"
    }
   ],
   "source": [
    "__import__('pysqlite3')\n",
    "import sys\n",
    "sys.modules['sqlite3'] = sys.modules.pop('pysqlite3')\n",
    "\n",
    "import os\n",
    "from langchain import hub\n",
    "from dotenv import load_dotenv\n",
    "from langchain_chroma import Chroma\n",
    "from langchain_openai import ChatOpenAI\n",
    "from langchain.chains import RetrievalQA\n",
    "# from langchain_nomic import NomicEmbeddings\n",
    "from langchain_openai import OpenAIEmbeddings\n",
    "# from langchain_anthropic import ChatAnthropic\n",
    "# from langchain_google_vertexai import ChatVertexAI\n",
    "# from langchain_community.vectorstores import FAISS\n",
    "from langchain_core.prompts import PromptTemplate\n",
    "# from langchain_core.vectorstores import InMemoryVectorStore\n",
    "from langchain_community.document_loaders import PyPDFLoader\n",
    "from langchain_text_splitters import RecursiveCharacterTextSplitter\n",
    "from langchain.chains.combine_documents import create_stuff_documents_chain\n",
    "\n",
    "load_dotenv()\n"
   ]
  },
  {
   "cell_type": "markdown",
   "metadata": {},
   "source": [
    "## Initialize the required models for LLM, embedding and vector store\n",
    "\n",
    "- LLM for the querying\n",
    "- Embedding model for embedding the queries\n",
    "- Vector store to store the embeddings\n",
    "\n",
    "Uncomment the other options that are available.\n",
    "\n",
    "The LLM can be OpenAI, Anthropic or Google Vertex AI models.\n",
    "\n",
    "The embeddings can be of OpenAI or Nomic (Open Source)\n",
    "\n",
    "The vector store can be in memory, Meta's FAISS or Chroma DB"
   ]
  },
  {
   "cell_type": "code",
   "execution_count": 3,
   "metadata": {},
   "outputs": [],
   "source": [
    "# llm = ChatAnthropic(model=\"claude-3-5-haiku-20240620\")\n",
    "# llm = ChatVertexAI(model=\"gemini-1.5-flash\")\n",
    "llm = ChatOpenAI(model=\"gpt-4o-mini\")\n",
    "\n",
    "# embeddings = NomicEmbeddings(model=\"nomic-embed-text-v1.5\")\n",
    "embeddings = OpenAIEmbeddings(model=\"text-embedding-3-large\")\n",
    "\n",
    "# vector_store = InMemoryVectorStore(embeddings)\n",
    "# vector_store = FAISS(embedding_function=embeddings)\n",
    "vector_store = Chroma(embedding_function=embeddings)"
   ]
  },
  {
   "cell_type": "markdown",
   "metadata": {},
   "source": [
    "## Load the documents into the vector store\n",
    "\n",
    "### Steps:\n",
    "- Load the PDF document using the PDF Loader\n",
    "- Split the documents into chunks of 1000 characters with a 200 character overlap to avoid missing information\n",
    "- Store the split documents in the Vector Store"
   ]
  },
  {
   "cell_type": "code",
   "execution_count": 4,
   "metadata": {},
   "outputs": [],
   "source": [
    "\n",
    "document_loader = PyPDFLoader(\"./assets/idfc_first_select_cc.pdf\")\n",
    "pages = []\n",
    "for page in document_loader.load():\n",
    "    pages.append(page)\n",
    "\n",
    "text_splitter = RecursiveCharacterTextSplitter(\n",
    "    chunk_size=1000,\n",
    "    chunk_overlap=200,\n",
    "    add_start_index=True,\n",
    ")\n",
    "document_splits = text_splitter.split_documents(pages)\n",
    "\n",
    "stored_document_ids = vector_store.add_documents(documents=document_splits)"
   ]
  },
  {
   "cell_type": "code",
   "execution_count": 5,
   "metadata": {},
   "outputs": [],
   "source": [
    "question = \"What is the rate of rewards this card give me?\""
   ]
  },
  {
   "cell_type": "markdown",
   "metadata": {},
   "source": [
    "## Sending the question to the LLM directly\n",
    "\n",
    "Let's first prompt the LLM with the user question and see what information that it responds with\n",
    "\n",
    "\n",
    "As you can see, the LLM is not able to get a valid response as it does not have the context of what the user is asking."
   ]
  },
  {
   "cell_type": "code",
   "execution_count": 6,
   "metadata": {},
   "outputs": [
    {
     "name": "stdout",
     "output_type": "stream",
     "text": [
      "To provide accurate information about the rewards rate for a specific card, I would need to know the name of the card or the issuing bank. Different credit cards offer various rewards programs, including cash back, points, or miles, and the rates can vary. Please provide the name of the card or any details you have!\n"
     ]
    }
   ],
   "source": [
    "llm_response = llm.invoke(question)\n",
    "print(llm_response.content)"
   ]
  },
  {
   "cell_type": "markdown",
   "metadata": {},
   "source": [
    "## Similarity Search on the Vector Store\n",
    "\n",
    "Similarity search is a functionality where the vector of the question is compared with the vectors of the text chunks in the Vector Store. The text chunks which are very similar to the question are retrived from the DB.\n",
    "\n",
    "This is the retrieval step in the RAG pipeline where the relevant information is retrieved from the Vector Store which is passed along with the user question to the LLM to get the results."
   ]
  },
  {
   "cell_type": "code",
   "execution_count": 7,
   "metadata": {},
   "outputs": [
    {
     "name": "stdout",
     "output_type": "stream",
     "text": [
      "page_content='FIRST SWYP Credit Card\n",
      "Not Applicable Not Applicable\n",
      "(Customer has to either pay Total \n",
      "Amount Due in full or convert \n",
      "eligible due amount into EMI)  \n",
      "(Customer has to either pay Total \n",
      "Amount Due in full or convert \n",
      "eligible due amount into EMI)  \n",
      "All other IDFC FIRST Bank\n",
      "Credit Cards\n",
      "Monthly Rate - 0.75% - 3.65%\n",
      "Annual Rate - 9% - 43.8%\n",
      "Monthly Rate - 3.99%\n",
      "Annual Rate - 47.88%' metadata={'page': 2, 'source': './assets/idfc_first_select_cc.pdf', 'start_index': 1589}\n"
     ]
    }
   ],
   "source": [
    "similar_results = vector_store.similarity_search(question, k=1)\n",
    "for result in similar_results:\n",
    "    print(result)"
   ]
  },
  {
   "cell_type": "markdown",
   "metadata": {},
   "source": [
    "## Retrieve the relevant information from the vector store and ask questions on the data stored\n",
    "\n",
    "### Steps:\n",
    "- Take the query, and retrieve the relavant information from the vector store\n",
    "- Pass the context and the question to the LLM to get the information"
   ]
  },
  {
   "cell_type": "code",
   "execution_count": 9,
   "metadata": {},
   "outputs": [
    {
     "name": "stdout",
     "output_type": "stream",
     "text": [
      "The document does not outline the information that you requested.\n"
     ]
    }
   ],
   "source": [
    "prompt_template = \"\"\"You are a banker with an masters degree in finance and you are an expert at reading through terms and conditions of credit card and answering the questions asked by the user related to that credit card. \n",
    "Use the following pieces of context to answer the question at the end. If you don't know the answer, just say that you don't know, then kindly answer with an 'The document does not outline the information that you requested'. Use three sentences maximum. Keep the answer as concise as possible.\n",
    "\n",
    "{context}\n",
    "\n",
    "Question: {question}\n",
    "Helpful Answer:\"\"\"\n",
    "\n",
    "prompt = PromptTemplate.from_template(prompt_template)\n",
    "\n",
    "qa_chain = RetrievalQA.from_chain_type(\n",
    "    llm,\n",
    "    retriever=vector_store.as_retriever(),\n",
    "    return_source_documents=True,\n",
    "    chain_type_kwargs={\"prompt\": prompt}\n",
    ")\n",
    "\n",
    "result = qa_chain.invoke({\"query\": question})\n",
    "print(result['result'])\n"
   ]
  }
 ],
 "metadata": {
  "kernelspec": {
   "display_name": ".venv",
   "language": "python",
   "name": "python3"
  },
  "language_info": {
   "codemirror_mode": {
    "name": "ipython",
    "version": 3
   },
   "file_extension": ".py",
   "mimetype": "text/x-python",
   "name": "python",
   "nbconvert_exporter": "python",
   "pygments_lexer": "ipython3",
   "version": "3.8.10"
  }
 },
 "nbformat": 4,
 "nbformat_minor": 2
}
